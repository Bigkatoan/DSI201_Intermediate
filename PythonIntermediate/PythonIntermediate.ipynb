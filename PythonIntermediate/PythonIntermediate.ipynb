{
 "cells": [
  {
   "cell_type": "markdown",
   "id": "f89fa420-3b3e-4324-a07b-4958d031e714",
   "metadata": {},
   "source": [
    "# Python Intermediate"
   ]
  },
  {
   "cell_type": "markdown",
   "id": "8850065c-cea2-4189-be54-b8c1f69714e3",
   "metadata": {},
   "source": [
    "Working with data is more like you working with number. Before focusing on some advanced problems, we need to master some of the basic, especially python coding. Python is a programming language that have build-in library that support for working with data more efficiency.\n",
    "\n",
    "In this chapter, we will learn:\n",
    "- Why python.\n",
    "- What can we do.\n",
    "- Anaconda, block coding, multiple environment, install library.\n",
    "- Math implimentation in python."
   ]
  },
  {
   "cell_type": "markdown",
   "id": "42dba991-2f7d-4370-95ba-559c3e2da299",
   "metadata": {},
   "source": [
    "# Anaconda"
   ]
  },
  {
   "cell_type": "markdown",
   "id": "be5152c7-35f0-446e-b7f2-398f830798f8",
   "metadata": {},
   "source": [
    "Anaconda is important for python coding and working with data. You will working with terminal for long time so Anaconda will help us this all of these situation. More than that, Anaconda support create multiple environment and installing cuda for GPUs cangculation.\n",
    "\n",
    "Download and install in this page.\n",
    "\n",
    "link: https://www.anaconda.com/download"
   ]
  },
  {
   "cell_type": "markdown",
   "id": "30606cca-d20b-4a23-a7e0-9aefb3f91569",
   "metadata": {},
   "source": [
    "Some simple syntax:\n",
    "\n",
    "```\n",
    "conda create -n <env name> python=<version> -y\n",
    "\n",
    "conda activate <env name>\n",
    "\n",
    "pip install <library name>\n",
    "```"
   ]
  },
  {
   "cell_type": "markdown",
   "id": "9535d73a-9675-4137-a62b-202e2f2750a5",
   "metadata": {},
   "source": [
    "# Python and math implimentation."
   ]
  },
  {
   "cell_type": "code",
   "execution_count": 1,
   "id": "d7953a8c-5404-441f-9c49-e1be8ea9dfee",
   "metadata": {},
   "outputs": [],
   "source": [
    "import numpy\n",
    "import matplotlib.pyplot as plt"
   ]
  },
  {
   "cell_type": "markdown",
   "id": "aad89db3-a0cb-4305-89c1-df218f248f02",
   "metadata": {},
   "source": [
    "### Vector, matrix, tensor."
   ]
  },
  {
   "cell_type": "code",
   "execution_count": 2,
   "id": "5e2635fa-d4b5-4137-8b88-e540409f9543",
   "metadata": {},
   "outputs": [
    {
     "data": {
      "text/plain": [
       "(5,)"
      ]
     },
     "execution_count": 2,
     "metadata": {},
     "output_type": "execute_result"
    }
   ],
   "source": [
    "#vector.\n",
    "vector = numpy.array([1, 2, 3, 4, 5])\n",
    "vector.shape"
   ]
  },
  {
   "cell_type": "code",
   "execution_count": 3,
   "id": "3b206311-0551-4c8d-a0b4-f436dbfc2960",
   "metadata": {},
   "outputs": [
    {
     "data": {
      "text/plain": [
       "(4, 4)"
      ]
     },
     "execution_count": 3,
     "metadata": {},
     "output_type": "execute_result"
    }
   ],
   "source": [
    "# matrix\n",
    "matrix = numpy.ones([4, 4])\n",
    "matrix.shape"
   ]
  },
  {
   "cell_type": "code",
   "execution_count": 4,
   "id": "c73a8c85-3dfd-4c3a-9ce0-2383b711e60b",
   "metadata": {},
   "outputs": [
    {
     "data": {
      "text/plain": [
       "(5, 6, 2, 3)"
      ]
     },
     "execution_count": 4,
     "metadata": {},
     "output_type": "execute_result"
    }
   ],
   "source": [
    "# tensor\n",
    "tensor = numpy.zeros([5,6,2,3])\n",
    "tensor.shape"
   ]
  },
  {
   "cell_type": "markdown",
   "id": "c7246e9c-c175-4551-adf6-61e5be557f15",
   "metadata": {},
   "source": [
    "### Basic function, multi-input function, basic derivation."
   ]
  },
  {
   "cell_type": "code",
   "execution_count": 5,
   "id": "88f3bbae-fb49-414b-8bea-0b4319a26735",
   "metadata": {},
   "outputs": [
    {
     "data": {
      "text/plain": [
       "(200,)"
      ]
     },
     "execution_count": 5,
     "metadata": {},
     "output_type": "execute_result"
    }
   ],
   "source": [
    "# create basic vector X represent range of x.\n",
    "X = numpy.linspace(-5, 5, 200)\n",
    "X.shape"
   ]
  },
  {
   "cell_type": "code",
   "execution_count": 6,
   "id": "a4d5635f-2887-4599-81a0-959a5827a8cd",
   "metadata": {},
   "outputs": [
    {
     "data": {
      "image/png": "[encoded data removed]",
      "text/plain": [
       "<Figure size 640x480 with 1 Axes>"
      ]
     },
     "metadata": {},
     "output_type": "display_data"
    }
   ],
   "source": [
    "# create simple function and visualize.\n",
    "def f(x):\n",
    "    return x**2 - 5*numpy.sin(x)\n",
    "plt.scatter(X, f(X))\n",
    "plt.show()"
   ]
  },
  {
   "cell_type": "code",
   "execution_count": 7,
   "id": "895dc56d-b3e7-4fc0-8c8c-8c833be2035e",
   "metadata": {},
   "outputs": [],
   "source": [
    "# multi-input function. using multiple head.\n",
    "def f(x1, x2, x3):\n",
    "    return x1**2 - 3*x1*x2 + x3\n",
    "# visualize here.\n"
   ]
  },
  {
   "cell_type": "code",
   "execution_count": 8,
   "id": "b38d9beb-724f-4248-9677-6c672bcbea81",
   "metadata": {},
   "outputs": [],
   "source": [
    "# simple derivation.\n",
    "def f_(x, h=0.00001):\n",
    "    return (f(x + h) - f(x))/h\n",
    "# visualize here.\n",
    "\n",
    "# question: if we change x + h to x - h the derivation function is changeing it own shape.\n"
   ]
  },
  {
   "cell_type": "markdown",
   "id": "87afa7e2-2593-47a4-ad0d-6cdfda6e14e8",
   "metadata": {},
   "source": [
    "# Math implimentation. (advanced)"
   ]
  },
  {
   "cell_type": "markdown",
   "id": "366513fa-216e-4c19-8059-1ff4f3ddc453",
   "metadata": {},
   "source": [
    "Convert from basic math block to matrix math block.\n",
    "\n",
    "$$\\sum_{i=1}^{D}(x_i-y_i)^2$$\n",
    "\n",
    "simple mse implimentation."
   ]
  },
  {
   "cell_type": "code",
   "execution_count": 9,
   "id": "371f4048-4fd9-48cd-897c-3d236fa8841b",
   "metadata": {},
   "outputs": [],
   "source": [
    "# demo here."
   ]
  },
  {
   "cell_type": "markdown",
   "id": "0c4f0b97-865f-43d1-b675-68c65186012c",
   "metadata": {},
   "source": [
    "your work: Impliment this function.\n",
    "\n",
    "$$-\\sum_{c=1}^My_{o,c}\\log(p_{o,c})$$\n",
    "\n",
    "- M - number of classes\n",
    "- log - the natural log\n",
    "- y - binary indicator (0 or 1) if class label c is the correct classification for observation o\n",
    "- p - predicted probability observation o is of class c"
   ]
  },
  {
   "cell_type": "code",
   "execution_count": 10,
   "id": "03bf5ba6-b139-4bf0-bb84-a1026948993b",
   "metadata": {},
   "outputs": [],
   "source": [
    "# your code here."
   ]
  },
  {
   "cell_type": "code",
   "execution_count": null,
   "id": "755d1e63-76bf-4cdb-b4f7-ab81ee80efab",
   "metadata": {},
   "outputs": [],
   "source": []
  }
 ],
 "metadata": {
  "kernelspec": {
   "display_name": "Python 3 (ipykernel)",
   "language": "python",
   "name": "python3"
  },
  "language_info": {
   "codemirror_mode": {
    "name": "ipython",
    "version": 3
   },
   "file_extension": ".py",
   "mimetype": "text/x-python",
   "name": "python",
   "nbconvert_exporter": "python",
   "pygments_lexer": "ipython3",
   "version": "3.9.19"
  }
 },
 "nbformat": 4,
 "nbformat_minor": 5
}
